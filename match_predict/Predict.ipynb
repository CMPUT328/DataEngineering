{
 "cells": [
  {
   "cell_type": "code",
   "execution_count": 2,
   "id": "ce14d8fb-aa37-465f-b761-b490017e6fe7",
   "metadata": {
    "tags": []
   },
   "outputs": [],
   "source": [
    "import json\n",
    "import pandas as pd\n",
    "import numpy as np"
   ]
  },
  {
   "cell_type": "code",
   "execution_count": 13,
   "id": "cafeeacf-1866-4c12-8c30-a6542f04fd8b",
   "metadata": {
    "tags": []
   },
   "outputs": [],
   "source": [
    "from keras.models import load_model\n",
    "\n",
    "model = load_model('predict_match_model.keras')"
   ]
  },
  {
   "cell_type": "code",
   "execution_count": 11,
   "id": "89470290-295e-41f2-9296-d0ebc5517524",
   "metadata": {
    "tags": []
   },
   "outputs": [],
   "source": [
    "from joblib import load\n",
    "\n",
    "scaler = load('scaler.pkl')"
   ]
  },
  {
   "cell_type": "code",
   "execution_count": 3,
   "id": "9ab95d06-cbc4-460b-9c7f-25acb0a17b80",
   "metadata": {
    "tags": []
   },
   "outputs": [],
   "source": [
    "# Load the JSON data\n",
    "with open('updated_teams_with_history_and_elo.json', 'r') as file:\n",
    "    teams_data = json.load(file)"
   ]
  },
  {
   "cell_type": "code",
   "execution_count": 4,
   "id": "e6d6d656-effc-43a0-963a-6a2453b4f02d",
   "metadata": {
    "tags": []
   },
   "outputs": [],
   "source": [
    "from datetime import datetime"
   ]
  },
  {
   "cell_type": "code",
   "execution_count": 5,
   "id": "9640dd2f-2b73-4fdc-8bc5-2649070434f2",
   "metadata": {
    "tags": []
   },
   "outputs": [],
   "source": [
    "teams_dict = {\n",
    "    team['team_id']: {k: v for k, v in team.items() if k != 'team_id'}\n",
    "    for team in teams_data\n",
    "}"
   ]
  },
  {
   "cell_type": "code",
   "execution_count": 9,
   "id": "e2a3aeb6-8ba4-49eb-af50-a8511a9d552b",
   "metadata": {
    "tags": []
   },
   "outputs": [],
   "source": [
    "def top_5_elo_sum(players_elo):\n",
    "    # Filter out None values and take top 5 player elos\n",
    "    \n",
    "    if len(players_elo) == 0:\n",
    "        return [0]*4\n",
    "    sum_elos = []\n",
    "    for year in range(4):\n",
    "        valid_elos = [player[\"elo\"][year] for player in players_elo if player[\"elo\"] != None]\n",
    "        sum_elos.append(sum(sorted(valid_elos, reverse=True)[:min(5,len(valid_elos))]))\n",
    "    return sum_elos"
   ]
  },
  {
   "cell_type": "code",
   "execution_count": 19,
   "id": "8203411d-866c-4fdd-87fd-92344a5db967",
   "metadata": {
    "tags": []
   },
   "outputs": [],
   "source": [
    "features_list = ['inhibKills', 'towerKills', 'baronKills', 'dragonKills', 'Gold_per_min', 'KA_per_min', 'deaths_per_min', 'game_length', 'Gold_15', 'towerKills_15', 'dragonKills_15', 'KA_15', 'deaths_15', 'GD_15', 'GPMD', 'towerKillsD_15', 'dragonKillsD_15', 'KAD_15', 'players_elo', 'team_elo']"
   ]
  },
  {
   "cell_type": "code",
   "execution_count": 20,
   "id": "2324c01c-c3fe-4e94-af66-60beb1549ced",
   "metadata": {
    "tags": []
   },
   "outputs": [],
   "source": [
    "# Helper function to create a feature vector for a given team ID\n",
    "def create_feature_vector(team_id1, team_id2):\n",
    "    for data in teams_data:\n",
    "        \n",
    "        if team_id1 == data[\"team_id\"]:\n",
    "            \n",
    "            # for game in data[\"match_history\"]:\n",
    "                \n",
    "    \n",
    "            feature_vector = {}\n",
    "        \n",
    "            # Extract all matches between the two teams\n",
    "            matches = [match for match in data[\"match_history\"] if match[\"Opponent_team\"] == team_id2]\n",
    "            \n",
    "            if not matches:\n",
    "                  # Get the column names from the DataFrame\n",
    "                zero_match = {key: 0 for key in features_list}\n",
    "                opponent_players_elo = top_5_elo_sum(teams_dict[team_id2]['players'])[3] if team_id2 in teams_dict.keys() else 0\n",
    "                player_elo = top_5_elo_sum(data[\"players\"])[3]\n",
    "                zero_match[\"players_elo\"] = player_elo/max(player_elo+opponent_players_elo,1)\n",
    "                \n",
    "                opponent_team_elo = teams_dict[team_id2]['elo'][3] if team_id2 in teams_dict.keys() else 0\n",
    "                team_elo = data[\"elo\"][3]\n",
    "                zero_match[\"team_elo\"] = team_elo/(team_elo+opponent_team_elo)\n",
    "                df_to_predict = pd.DataFrame([zero_match])\n",
    "                return df_to_predict\n",
    "            # Initialize a dictionary to store the sum of each statistic\n",
    "            stats_sum = {k: 0 for k in matches[0].keys() if k not in [\"team_elo\",\"players_elo\",\"Result\", \"eventTime\", \"year\", \"Team_id\", \"Opponent_team\", \"LeagueId\"]}\n",
    "            \n",
    "            # # Extract latest match history details excluding \"Result\"\n",
    "            # latest_match = [match for match in data[\"match_history\"] if match[\"Opponent_team\"] == team_id2]\n",
    "            # latest_match_features = {k: v for match in latest_match for k, v in match.items() if k not in [\"Result\",\"eventTime\",\"year\",\"Team_id\",\"Opponent_team\",\"LeagueId\"]}\n",
    "\n",
    "            \n",
    "            \n",
    "            # Iterate over matches and accumulate the statistics\n",
    "            for match in matches:\n",
    "                for key in stats_sum.keys():\n",
    "                    stats_sum[key] += match[key]\n",
    "\n",
    "            # Compute the average for each statistic\n",
    "            average_stats = {k: v / len(matches) for k, v in stats_sum.items()}\n",
    "            \n",
    "            \n",
    "            \n",
    "            # Merge with the feature vector\n",
    "            feature_vector.update(average_stats)\n",
    "            # if len(feature_vector.keys()) == 0:\n",
    "            #     feature_vector = {k: 0 for k in match_key if k not in [\"Result\",\"eventTime\",\"year\",\"Team_id\",\"Opponent_team\",\"LeagueId\"]} \n",
    "            opponent_players_elo = top_5_elo_sum(teams_dict[team_id2]['players'])[3] if team_id2 in teams_dict.keys() else 0\n",
    "            player_elo = top_5_elo_sum(data[\"players\"])[3]\n",
    "            feature_vector[\"players_elo\"] = player_elo/max(player_elo+opponent_players_elo,1)\n",
    "            \n",
    "            opponent_team_elo = teams_dict[team_id2]['elo'][3] if team_id2 in teams_dict.keys() else 0\n",
    "            team_elo = data[\"elo\"][3]\n",
    "            feature_vector[\"team_elo\"] = team_elo/(team_elo+opponent_team_elo)\n",
    "            df_to_predict = pd.DataFrame([feature_vector])\n",
    "    return scaler.transform(df_to_predict)\n",
    "\n"
   ]
  },
  {
   "cell_type": "code",
   "execution_count": 57,
   "id": "efbc6871-66a6-4e85-bfdd-26feee70f32b",
   "metadata": {
    "tags": []
   },
   "outputs": [],
   "source": [
    "def predict_match(team1_id, team2_id):    \n",
    "    # Create feature vectors for the two provided teams\n",
    "    # team_1_vector = create_feature_vector(\"99566404852189289\",\"107251295460371069\")\n",
    "    team_1_vector = create_feature_vector(team1_id,team2_id)\n",
    "    team_2_vector = create_feature_vector(team2_id,team1_id)\n",
    "    \n",
    "    # Convert to DataFrame for prediction\n",
    "    df_predict1 = pd.DataFrame(team_1_vector)\n",
    "    df_predict2 = pd.DataFrame(team_2_vector)\n",
    "    # Predict using the trained model\n",
    "    # predictions = clf.predict(df_predict)\n",
    "    predictions = model.predict(df_predict1),model.predict(df_predict2)\n",
    "    # predictions\n",
    "    \n",
    "    predicted_classes = np.argmax(predictions, axis=0)\n",
    "    class_index = int(predicted_classes[0][0])  # This should give you a scalar value\n",
    "    team_id = [team1_id, team2_id][class_index]\n",
    "    \n",
    "    prob = predictions[class_index] / sum(predictions)\n",
    "\n",
    "    return team_id, prob[0][0]"
   ]
  },
  {
   "cell_type": "code",
   "execution_count": 60,
   "id": "f3bb49fe-307c-40e1-8f4d-53c54ac26b74",
   "metadata": {
    "tags": []
   },
   "outputs": [
    {
     "name": "stdout",
     "output_type": "stream",
     "text": [
      "1/1 [==============================] - 0s 21ms/step\n",
      "1/1 [==============================] - 0s 20ms/step\n"
     ]
    },
    {
     "data": {
      "text/plain": [
       "('99566404585387054', 0.9488448)"
      ]
     },
     "execution_count": 60,
     "metadata": {},
     "output_type": "execute_result"
    }
   ],
   "source": [
    "predict_match(\"98767991954244555\",\"99566404585387054\") # GAM vs DRX. DRX wins"
   ]
  },
  {
   "cell_type": "code",
   "execution_count": 59,
   "id": "f658e629-1c29-4d0c-8b06-7c3e1785142d",
   "metadata": {
    "tags": []
   },
   "outputs": [
    {
     "name": "stdout",
     "output_type": "stream",
     "text": [
      "1/1 [==============================] - 0s 26ms/step\n",
      "1/1 [==============================] - 0s 22ms/step\n"
     ]
    },
    {
     "data": {
      "text/plain": [
       "('100725845018863243', 0.5053629)"
      ]
     },
     "execution_count": 59,
     "metadata": {},
     "output_type": "execute_result"
    }
   ],
   "source": [
    "predict_match(\"100725845018863243\",\"107563714667537640\") # DK vs BDS. DK wins"
   ]
  },
  {
   "cell_type": "code",
   "execution_count": 62,
   "id": "752af7d6-5aca-4ba8-8fe3-c24b112a38fc",
   "metadata": {
    "tags": []
   },
   "outputs": [
    {
     "name": "stdout",
     "output_type": "stream",
     "text": [
      "1/1 [==============================] - 0s 20ms/step\n",
      "1/1 [==============================] - 0s 20ms/step\n"
     ]
    },
    {
     "data": {
      "text/plain": [
       "('100205573495116443', 0.86138386)"
      ]
     },
     "execution_count": 62,
     "metadata": {},
     "output_type": "execute_result"
    }
   ],
   "source": [
    "predict_match(\"100725845018863243\",\"100205573495116443\") # DK vs GEN. GEN wins"
   ]
  },
  {
   "cell_type": "code",
   "execution_count": null,
   "id": "0c3c624c-cff4-402f-b1cb-d187ec7e6bab",
   "metadata": {},
   "outputs": [],
   "source": []
  }
 ],
 "metadata": {
  "kernelspec": {
   "display_name": "Python 3 (ipykernel)",
   "language": "python",
   "name": "python3"
  },
  "language_info": {
   "codemirror_mode": {
    "name": "ipython",
    "version": 3
   },
   "file_extension": ".py",
   "mimetype": "text/x-python",
   "name": "python",
   "nbconvert_exporter": "python",
   "pygments_lexer": "ipython3",
   "version": "3.10.7"
  }
 },
 "nbformat": 4,
 "nbformat_minor": 5
}
