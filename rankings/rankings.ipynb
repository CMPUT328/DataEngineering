{
 "cells": [
  {
   "cell_type": "code",
   "execution_count": 1,
   "metadata": {},
   "outputs": [],
   "source": [
    "import json\n",
    "import pandas as pd\n",
    "import numpy as np\n",
    "import matplotlib.pyplot as plt\n",
    "import seaborn as sns\n",
    "import os"
   ]
  },
  {
   "cell_type": "code",
   "execution_count": 12,
   "metadata": {},
   "outputs": [
    {
     "name": "stdout",
     "output_type": "stream",
     "text": [
      "              team_id  rank     Strength\n",
      "0  100205573495116443     1  1797.348838\n",
      "1   99566404852189289     2  1783.656882\n",
      "2   99566404579461230     3  1648.801327\n",
      "3   99566404850008779     4  1639.741177\n",
      "4   98767991853197861     5  1573.762793\n"
     ]
    }
   ],
   "source": [
    "# read json file and convert to dataframe\n",
    "with open('ranked_teams_with_score.json') as f:\n",
    "    data = json.load(f)\n",
    "    elo_df = pd.DataFrame(data)\n",
    "\n",
    "# convert team_id to long int\n",
    "elo_df['team_id'] = elo_df['team_id'].astype(np.int64)\n",
    "elo_df['rank'] = elo_df['rank'].astype(np.int64)\n",
    "print(elo_df.head())"
   ]
  },
  {
   "cell_type": "code",
   "execution_count": 13,
   "metadata": {},
   "outputs": [
    {
     "name": "stdout",
     "output_type": "stream",
     "text": [
      "               teamId     TeamScore  Rank\n",
      "0  103935567188806885  91780.494584     1\n",
      "1   99566405944694628  88945.162776     2\n",
      "2  105549984475833252  86607.248830     3\n",
      "3  109783160511364305  84427.975355     4\n",
      "4  107582613263241138  79349.147343     5\n"
     ]
    }
   ],
   "source": [
    "game_df = pd.read_csv('team_ranking.csv')\n",
    "print(game_df.head())"
   ]
  },
  {
   "cell_type": "code",
   "execution_count": 15,
   "metadata": {},
   "outputs": [
    {
     "name": "stdout",
     "output_type": "stream",
     "text": [
      "567\n",
      "574\n",
      "591\n"
     ]
    }
   ],
   "source": [
    "# Find common TeamIds\n",
    "common_team_ids = set(game_df['teamId']) & set(elo_df['team_id'])\n",
    "print(len(common_team_ids))\n",
    "print(len(set(game_df['teamId'])))\n",
    "print(len(set(elo_df['team_id']))) "
   ]
  },
  {
   "cell_type": "code",
   "execution_count": 17,
   "metadata": {},
   "outputs": [
    {
     "name": "stdout",
     "output_type": "stream",
     "text": [
      "               teamId     TeamScore  Rank             team_id  rank  \\\n",
      "0  103935567188806885  91780.494584     1  103935567188806885   225   \n",
      "1   99566405944694628  88945.162776     2   99566405944694628   566   \n",
      "2  105549984475833252  86607.248830     3  105549984475833252   510   \n",
      "3  109783160511364305  84427.975355     4  109783160511364305   374   \n",
      "4  107582613263241138  79349.147343     5  107582613263241138   423   \n",
      "\n",
      "      Strength  \n",
      "0  1009.728106  \n",
      "1   865.339749  \n",
      "2   918.660234  \n",
      "3   970.819181  \n",
      "4   958.277060  \n"
     ]
    }
   ],
   "source": [
    "# merge dataframes on common TeamIds\n",
    "merged_df = pd.merge(game_df, elo_df, left_on='teamId', right_on='team_id')\n",
    "\n",
    "# drop unnecessary columns\n",
    "merged_df = merged_df.drop(['team_id'], axis=1)\n",
    "\n",
    "print(merged_df.head())"
   ]
  },
  {
   "cell_type": "code",
   "execution_count": null,
   "metadata": {},
   "outputs": [],
   "source": []
  }
 ],
 "metadata": {
  "kernelspec": {
   "display_name": "Python 3",
   "language": "python",
   "name": "python3"
  },
  "language_info": {
   "codemirror_mode": {
    "name": "ipython",
    "version": 3
   },
   "file_extension": ".py",
   "mimetype": "text/x-python",
   "name": "python",
   "nbconvert_exporter": "python",
   "pygments_lexer": "ipython3",
   "version": "3.10.1"
  }
 },
 "nbformat": 4,
 "nbformat_minor": 2
}
